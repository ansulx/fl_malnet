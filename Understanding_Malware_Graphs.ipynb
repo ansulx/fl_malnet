{
  "cells": [
    {
      "cell_type": "markdown",
      "metadata": {},
      "source": [
        "# 🔍 Understanding Malware Graphs - Visual Explanation\n",
        "## Simple demonstration of how malware detection works\n",
        "\n",
        "This notebook shows:\n",
        "1. What the dataset looks like\n",
        "2. How to read .edgelist files\n",
        "3. Distribution of nodes across malware samples\n",
        "4. Visual examples of benign vs malware graphs\n"
      ]
    }
  ],
  "metadata": {
    "language_info": {
      "name": "python"
    }
  },
  "nbformat": 4,
  "nbformat_minor": 2
}
